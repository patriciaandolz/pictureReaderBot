{
  "nbformat": 4,
  "nbformat_minor": 0,
  "metadata": {
    "colab": {
      "provenance": [],
      "collapsed_sections": [
        "KL_Coz3KWJrb",
        "C-kF9gTmplWs",
        "Mtft0H1uYDRC",
        "v8ZTF-IKYcY8",
        "S1zrd94uS4Be",
        "H60G9Q0pTtvs"
      ]
    },
    "kernelspec": {
      "name": "python3",
      "display_name": "Python 3"
    },
    "language_info": {
      "name": "python"
    },
    "gpuClass": "standard",
    "widgets": {
      "application/vnd.jupyter.widget-state+json": {
        "46c0492437084921b0860ec063c85eb4": {
          "model_module": "@jupyter-widgets/controls",
          "model_name": "HBoxModel",
          "model_module_version": "1.5.0",
          "state": {
            "_dom_classes": [],
            "_model_module": "@jupyter-widgets/controls",
            "_model_module_version": "1.5.0",
            "_model_name": "HBoxModel",
            "_view_count": null,
            "_view_module": "@jupyter-widgets/controls",
            "_view_module_version": "1.5.0",
            "_view_name": "HBoxView",
            "box_style": "",
            "children": [
              "IPY_MODEL_a11a5524eb7e462fb19136eaf5b59e1a",
              "IPY_MODEL_89bdc2364817406f9aa5e833e7ccd58b",
              "IPY_MODEL_ea39b70fcc2f47d9a9dfd9e48f5cb7a0"
            ],
            "layout": "IPY_MODEL_836fab5c9ae7429e9cbaffd6001a3bb1"
          }
        },
        "a11a5524eb7e462fb19136eaf5b59e1a": {
          "model_module": "@jupyter-widgets/controls",
          "model_name": "HTMLModel",
          "model_module_version": "1.5.0",
          "state": {
            "_dom_classes": [],
            "_model_module": "@jupyter-widgets/controls",
            "_model_module_version": "1.5.0",
            "_model_name": "HTMLModel",
            "_view_count": null,
            "_view_module": "@jupyter-widgets/controls",
            "_view_module_version": "1.5.0",
            "_view_name": "HTMLView",
            "description": "",
            "description_tooltip": null,
            "layout": "IPY_MODEL_23754b64073948d39eb200717ddffcbc",
            "placeholder": "​",
            "style": "IPY_MODEL_8f3250be56fe45e5b3bf3a861bc0834f",
            "value": "100%"
          }
        },
        "89bdc2364817406f9aa5e833e7ccd58b": {
          "model_module": "@jupyter-widgets/controls",
          "model_name": "FloatProgressModel",
          "model_module_version": "1.5.0",
          "state": {
            "_dom_classes": [],
            "_model_module": "@jupyter-widgets/controls",
            "_model_module_version": "1.5.0",
            "_model_name": "FloatProgressModel",
            "_view_count": null,
            "_view_module": "@jupyter-widgets/controls",
            "_view_module_version": "1.5.0",
            "_view_name": "ProgressView",
            "bar_style": "success",
            "description": "",
            "description_tooltip": null,
            "layout": "IPY_MODEL_cc040818ce3e44629daf1f8ca85e6d33",
            "max": 46830571,
            "min": 0,
            "orientation": "horizontal",
            "style": "IPY_MODEL_17f521474e4c448ba0a0a06712689be9",
            "value": 46830571
          }
        },
        "ea39b70fcc2f47d9a9dfd9e48f5cb7a0": {
          "model_module": "@jupyter-widgets/controls",
          "model_name": "HTMLModel",
          "model_module_version": "1.5.0",
          "state": {
            "_dom_classes": [],
            "_model_module": "@jupyter-widgets/controls",
            "_model_module_version": "1.5.0",
            "_model_name": "HTMLModel",
            "_view_count": null,
            "_view_module": "@jupyter-widgets/controls",
            "_view_module_version": "1.5.0",
            "_view_name": "HTMLView",
            "description": "",
            "description_tooltip": null,
            "layout": "IPY_MODEL_47e56364c8704a22bc09cad631dcb81e",
            "placeholder": "​",
            "style": "IPY_MODEL_530214f21df7442b98a93db4cb4eb217",
            "value": " 44.7M/44.7M [00:00&lt;00:00, 68.8MB/s]"
          }
        },
        "836fab5c9ae7429e9cbaffd6001a3bb1": {
          "model_module": "@jupyter-widgets/base",
          "model_name": "LayoutModel",
          "model_module_version": "1.2.0",
          "state": {
            "_model_module": "@jupyter-widgets/base",
            "_model_module_version": "1.2.0",
            "_model_name": "LayoutModel",
            "_view_count": null,
            "_view_module": "@jupyter-widgets/base",
            "_view_module_version": "1.2.0",
            "_view_name": "LayoutView",
            "align_content": null,
            "align_items": null,
            "align_self": null,
            "border": null,
            "bottom": null,
            "display": null,
            "flex": null,
            "flex_flow": null,
            "grid_area": null,
            "grid_auto_columns": null,
            "grid_auto_flow": null,
            "grid_auto_rows": null,
            "grid_column": null,
            "grid_gap": null,
            "grid_row": null,
            "grid_template_areas": null,
            "grid_template_columns": null,
            "grid_template_rows": null,
            "height": null,
            "justify_content": null,
            "justify_items": null,
            "left": null,
            "margin": null,
            "max_height": null,
            "max_width": null,
            "min_height": null,
            "min_width": null,
            "object_fit": null,
            "object_position": null,
            "order": null,
            "overflow": null,
            "overflow_x": null,
            "overflow_y": null,
            "padding": null,
            "right": null,
            "top": null,
            "visibility": null,
            "width": null
          }
        },
        "23754b64073948d39eb200717ddffcbc": {
          "model_module": "@jupyter-widgets/base",
          "model_name": "LayoutModel",
          "model_module_version": "1.2.0",
          "state": {
            "_model_module": "@jupyter-widgets/base",
            "_model_module_version": "1.2.0",
            "_model_name": "LayoutModel",
            "_view_count": null,
            "_view_module": "@jupyter-widgets/base",
            "_view_module_version": "1.2.0",
            "_view_name": "LayoutView",
            "align_content": null,
            "align_items": null,
            "align_self": null,
            "border": null,
            "bottom": null,
            "display": null,
            "flex": null,
            "flex_flow": null,
            "grid_area": null,
            "grid_auto_columns": null,
            "grid_auto_flow": null,
            "grid_auto_rows": null,
            "grid_column": null,
            "grid_gap": null,
            "grid_row": null,
            "grid_template_areas": null,
            "grid_template_columns": null,
            "grid_template_rows": null,
            "height": null,
            "justify_content": null,
            "justify_items": null,
            "left": null,
            "margin": null,
            "max_height": null,
            "max_width": null,
            "min_height": null,
            "min_width": null,
            "object_fit": null,
            "object_position": null,
            "order": null,
            "overflow": null,
            "overflow_x": null,
            "overflow_y": null,
            "padding": null,
            "right": null,
            "top": null,
            "visibility": null,
            "width": null
          }
        },
        "8f3250be56fe45e5b3bf3a861bc0834f": {
          "model_module": "@jupyter-widgets/controls",
          "model_name": "DescriptionStyleModel",
          "model_module_version": "1.5.0",
          "state": {
            "_model_module": "@jupyter-widgets/controls",
            "_model_module_version": "1.5.0",
            "_model_name": "DescriptionStyleModel",
            "_view_count": null,
            "_view_module": "@jupyter-widgets/base",
            "_view_module_version": "1.2.0",
            "_view_name": "StyleView",
            "description_width": ""
          }
        },
        "cc040818ce3e44629daf1f8ca85e6d33": {
          "model_module": "@jupyter-widgets/base",
          "model_name": "LayoutModel",
          "model_module_version": "1.2.0",
          "state": {
            "_model_module": "@jupyter-widgets/base",
            "_model_module_version": "1.2.0",
            "_model_name": "LayoutModel",
            "_view_count": null,
            "_view_module": "@jupyter-widgets/base",
            "_view_module_version": "1.2.0",
            "_view_name": "LayoutView",
            "align_content": null,
            "align_items": null,
            "align_self": null,
            "border": null,
            "bottom": null,
            "display": null,
            "flex": null,
            "flex_flow": null,
            "grid_area": null,
            "grid_auto_columns": null,
            "grid_auto_flow": null,
            "grid_auto_rows": null,
            "grid_column": null,
            "grid_gap": null,
            "grid_row": null,
            "grid_template_areas": null,
            "grid_template_columns": null,
            "grid_template_rows": null,
            "height": null,
            "justify_content": null,
            "justify_items": null,
            "left": null,
            "margin": null,
            "max_height": null,
            "max_width": null,
            "min_height": null,
            "min_width": null,
            "object_fit": null,
            "object_position": null,
            "order": null,
            "overflow": null,
            "overflow_x": null,
            "overflow_y": null,
            "padding": null,
            "right": null,
            "top": null,
            "visibility": null,
            "width": null
          }
        },
        "17f521474e4c448ba0a0a06712689be9": {
          "model_module": "@jupyter-widgets/controls",
          "model_name": "ProgressStyleModel",
          "model_module_version": "1.5.0",
          "state": {
            "_model_module": "@jupyter-widgets/controls",
            "_model_module_version": "1.5.0",
            "_model_name": "ProgressStyleModel",
            "_view_count": null,
            "_view_module": "@jupyter-widgets/base",
            "_view_module_version": "1.2.0",
            "_view_name": "StyleView",
            "bar_color": null,
            "description_width": ""
          }
        },
        "47e56364c8704a22bc09cad631dcb81e": {
          "model_module": "@jupyter-widgets/base",
          "model_name": "LayoutModel",
          "model_module_version": "1.2.0",
          "state": {
            "_model_module": "@jupyter-widgets/base",
            "_model_module_version": "1.2.0",
            "_model_name": "LayoutModel",
            "_view_count": null,
            "_view_module": "@jupyter-widgets/base",
            "_view_module_version": "1.2.0",
            "_view_name": "LayoutView",
            "align_content": null,
            "align_items": null,
            "align_self": null,
            "border": null,
            "bottom": null,
            "display": null,
            "flex": null,
            "flex_flow": null,
            "grid_area": null,
            "grid_auto_columns": null,
            "grid_auto_flow": null,
            "grid_auto_rows": null,
            "grid_column": null,
            "grid_gap": null,
            "grid_row": null,
            "grid_template_areas": null,
            "grid_template_columns": null,
            "grid_template_rows": null,
            "height": null,
            "justify_content": null,
            "justify_items": null,
            "left": null,
            "margin": null,
            "max_height": null,
            "max_width": null,
            "min_height": null,
            "min_width": null,
            "object_fit": null,
            "object_position": null,
            "order": null,
            "overflow": null,
            "overflow_x": null,
            "overflow_y": null,
            "padding": null,
            "right": null,
            "top": null,
            "visibility": null,
            "width": null
          }
        },
        "530214f21df7442b98a93db4cb4eb217": {
          "model_module": "@jupyter-widgets/controls",
          "model_name": "DescriptionStyleModel",
          "model_module_version": "1.5.0",
          "state": {
            "_model_module": "@jupyter-widgets/controls",
            "_model_module_version": "1.5.0",
            "_model_name": "DescriptionStyleModel",
            "_view_count": null,
            "_view_module": "@jupyter-widgets/base",
            "_view_module_version": "1.2.0",
            "_view_name": "StyleView",
            "description_width": ""
          }
        }
      }
    }
  },
  "cells": [
    {
      "cell_type": "markdown",
      "source": [
        "# Help vision impaired people to see the world"
      ],
      "metadata": {
        "id": "irxKTGgnDLMO"
      }
    },
    {
      "cell_type": "markdown",
      "source": [
        "Combining leading edge technologies for helping people – Connect the dots:\n",
        "\n",
        "\n",
        "1. **Classifying** different **pictures** (tickets, floorplans and documents)\n",
        "2. **Recognizing text** in the images\n",
        "3. Reading out loud through **text-to-speech** (English)\n",
        "\n"
      ],
      "metadata": {
        "id": "J5Ba20F8Dhhi"
      }
    },
    {
      "cell_type": "markdown",
      "source": [
        "##<font color=red>Advice:</font>\n",
        "<font color=red>To train the network fast, from the Runtime environment Menu, select the GPU Hardware Acceleration.\n",
        "\n",
        "In Spanish 'Entorno de ejecucion -> Cambiar tipo de entorno de ejecución -> Acelerador por Hardware: GPU'.</font>"
      ],
      "metadata": {
        "id": "1-ScAMAQyfov"
      }
    },
    {
      "cell_type": "markdown",
      "source": [
        "## Classifying different pictures\n",
        "\n",
        "**Tools**:\n",
        "\n",
        "Image Classification to explore:\n",
        "*   `Sklearn`: Feature Extraction + Traditional Machine Learning\n",
        "*   `Pytorch`: Convolutional Neural Networks + Transfer Learning (e.g., ImageNet)\n",
        "\n",
        "---\n",
        "**Goals**\n",
        "\n",
        "To measure the categorization between tickets, floorplans and documents.\n",
        "Image Classification:\n",
        "*   Confusion Matrix\n",
        "*   Accuracy = 0.90\n",
        "\n",
        "---\n",
        "**Deliverables**\n",
        "\n",
        "Github Code (master) and Pages (report) Executable:\n",
        "*   Input: image (.png, .jpg)\n",
        "*   Output: caption (.txt)\n",
        "\n",
        "---\n"
      ],
      "metadata": {
        "id": "8nYHIe-NEYFK"
      }
    },
    {
      "cell_type": "markdown",
      "source": [
        "**STEPS:**\n",
        "\n",
        "1. Getting the data\n",
        "2. Loading and normalizing the data\n",
        "3. Visualizing a few images\n",
        "4. Training a CNN as fixed feature extractor with Transfer Learning\n",
        "5. Visualizing the model predictions\n",
        "6. Evaluating the model predictions\n",
        "7. Saving the model\n",
        "8. Predicting single image using the model\n",
        "\n"
      ],
      "metadata": {
        "id": "3xbOPMrhFkVY"
      }
    },
    {
      "cell_type": "markdown",
      "source": [
        "### 1. Getting the data\n",
        "We upload the `Database.zip` to Drive account and unzip the dataset, which consists of 3 subdirectories (i.e., Documents, Plans and Tickets) each containing images of the corresponding paper category. The path format is `DatabaseOrdered/set_type/class_name/image_id.jpg`\n",
        "\n"
      ],
      "metadata": {
        "id": "vBEMCTmDHDg4"
      }
    },
    {
      "cell_type": "code",
      "source": [
        "from google.colab import drive\n",
        "drive.mount('/content/drive')"
      ],
      "metadata": {
        "colab": {
          "base_uri": "https://localhost:8080/"
        },
        "id": "RDr-ZNGwVNep",
        "outputId": "576f5dbe-4d48-494a-ad02-fafaff2b2d42"
      },
      "execution_count": 2,
      "outputs": [
        {
          "output_type": "stream",
          "name": "stdout",
          "text": [
            "Mounted at /content/drive\n"
          ]
        }
      ]
    },
    {
      "cell_type": "code",
      "source": [
        "# import necessary packages\n",
        "from imutils import paths\n",
        "import numpy as np\n",
        "import shutil\n",
        "import os\n",
        "import zipfile"
      ],
      "metadata": {
        "id": "7XQovYNAEp7L"
      },
      "execution_count": 3,
      "outputs": []
    },
    {
      "cell_type": "code",
      "source": [
        "# specify path to the dataset\n",
        "ROOT = \"/content/drive/MyDrive/ColabNotebooks/\"\n",
        "DOCS_DATASET_PATH = \"Database\"\n",
        "\n",
        "# specify the paths to our training and validation set \n",
        "TRAIN = \"train\"\n",
        "TEST = \"test\"\n",
        "\n",
        "classes = ['Documents', 'Plans', 'Tickets']"
      ],
      "metadata": {
        "id": "u2wpspSlETAA"
      },
      "execution_count": 4,
      "outputs": []
    },
    {
      "cell_type": "code",
      "source": [
        "def load_Database_Data_paths(dir, filename, typeSet, subcarpeta=''):\n",
        "    \"\"\" load single batch of documents' type \"\"\"\n",
        "    # open external ZIP file\n",
        "    with zipfile.ZipFile(dir+'.zip', 'r') as external_zip:\n",
        "      # open internal ZIP file\n",
        "      with external_zip.open(filename+'.zip') as internal_zip:\n",
        "        with zipfile.ZipFile(internal_zip, 'r') as internal_zip_file:\n",
        "          internal_zip_file.extractall(dir)\n",
        "          filenames = internal_zip_file.namelist()\n",
        "          # select the image set files that belongs to the indicated set\n",
        "          image_filenames = [f for f in filenames if (f.endswith('.jpg') or f.endswith('.png')) and (f.startswith(filename+'/'+subcarpeta+typeSet))]\n",
        "          print(typeSet, ': ', len(image_filenames), ' ', image_filenames[0])\n",
        "\n",
        "          return image_filenames\n",
        "\n",
        "def load_Database_paths(ROOT, file):\n",
        "    \"\"\" load all of Database \"\"\"\n",
        "    xtrains = []\n",
        "    xtests = []\n",
        "\n",
        "    ytrains = []\n",
        "    ytests = []\n",
        "\n",
        "    for c in classes:\n",
        "        dir = os.path.join(ROOT, file)\n",
        "\n",
        "        print('--------------', c, '-------------')\n",
        "        if c == 'Tickets':\n",
        "          Xtrain = load_Database_Data_paths(dir, c, 'train', subcarpeta='imges/')\n",
        "        else:\n",
        "          Xtrain = load_Database_Data_paths(dir, c, 'train')\n",
        "        xtrains = xtrains + Xtrain\n",
        "\n",
        "        if c == 'Tickets':\n",
        "          Xtest = load_Database_Data_paths(dir, c, 'test', subcarpeta='imges/')\n",
        "        else:\n",
        "          Xtest = load_Database_Data_paths(dir, c, 'test')\n",
        "        xtests = xtests + Xtest\n",
        "\n",
        "        Ytrain = np.repeat(c, len(Xtrain))\n",
        "        ytrains = ytrains + Ytrain.tolist()\n",
        "\n",
        "        Ytest = np.repeat(c, len(Xtest))\n",
        "        ytests = ytests + Ytest.tolist()\n",
        "        print('\\n')\n",
        "\n",
        "    print('Xtrains', len(xtrains))\n",
        "    print('Ytrains', len(ytrains))\n",
        "    print('Xtests', len(xtests))\n",
        "    print('Ytests', len(ytests))\n",
        "\n",
        "\n",
        "    return xtrains, ytrains, xtests, ytests\n"
      ],
      "metadata": {
        "id": "9VJAs2p2HpN3"
      },
      "execution_count": null,
      "outputs": []
    },
    {
      "cell_type": "code",
      "source": [
        "X_train, y_train, X_test, y_test = load_Database_paths(ROOT, DOCS_DATASET_PATH)"
      ],
      "metadata": {
        "colab": {
          "base_uri": "https://localhost:8080/"
        },
        "id": "AiQ6XRbuL0qe",
        "outputId": "0c0498e4-f833-4d10-d3f6-9c4a0e894763"
      },
      "execution_count": null,
      "outputs": [
        {
          "output_type": "stream",
          "name": "stdout",
          "text": [
            "-------------- Documents -------------\n",
            "train :  344   Documents/train/a04-089.png\n",
            "test :  181   Documents/test/d04-117.png\n",
            "\n",
            "\n",
            "-------------- Plans -------------\n",
            "train :  606   Plans/train/01_PlantaPCI_A1_reconstructed.png\n",
            "test :  203   Plans/test/Drawing_1924808_0.png\n",
            "\n",
            "\n",
            "-------------- Tickets -------------\n",
            "train :  470   Tickets/imges/train/000.jpg\n",
            "test :  156   Tickets/imges/test/470.jpg\n",
            "\n",
            "\n",
            "Xtrains 1420\n",
            "Ytrains 1420\n",
            "Xtests 540\n",
            "Ytests 540\n"
          ]
        }
      ]
    },
    {
      "cell_type": "markdown",
      "source": [
        "### 2. Loading and normalizing the data\n",
        "\n",
        "In this step we order the data sets by creating the `DatabaseOrdered` directory, which will contain the data set to be used from now on, grouped by the set type (train or test). So after sorting the dataset, each image will have a path with the following format, `DatabaseOrdered/set_type/class_name/image_id.jpg`"
      ],
      "metadata": {
        "id": "PEUqp096KZOW"
      }
    },
    {
      "cell_type": "code",
      "source": [
        "def copy_images(imagePaths, folder):\n",
        "  if not os.path.exists(folder):\n",
        "    os.makedirs(folder)\n",
        "    print(folder)\n",
        "    \n",
        "  for path in imagePaths:\n",
        "    imageName = path.split(os.path.sep)[-1]\n",
        "    typeSet = path.split(os.path.sep)[-2]\n",
        "    label = path.split(os.path.sep)[-3]\n",
        "    if label == 'imges':\n",
        "      label = path.split(os.path.sep)[-4]\n",
        "    labelFolder = os.path.join(folder, label)\n",
        "\t\t# check to see if the label folder exists and if not create it\n",
        "    if not os.path.exists(labelFolder):\n",
        "      os.makedirs(labelFolder)\n",
        "\t\t# construct the destination image path and copy the current image to it\n",
        "    destination = os.path.join(labelFolder, imageName)\n",
        "\n",
        "    shutil.copy(ROOT+DOCS_DATASET_PATH+'/'+path, destination)"
      ],
      "metadata": {
        "id": "n2qOGCeZEqD8"
      },
      "execution_count": null,
      "outputs": []
    },
    {
      "cell_type": "code",
      "source": [
        "# copy the training and validation images to their respective directories\n",
        "NEW_DATA_PATH = 'DatabaseOrdered'\n",
        "if not os.path.exists(ROOT+NEW_DATA_PATH):\n",
        "    os.makedirs(NEW_DATA_PATH)\n",
        "\n",
        "print(\"copying training and testing images...\")\n",
        "copy_images(X_train, ROOT+NEW_DATA_PATH+'/'+TRAIN)\n",
        "copy_images(X_test, ROOT+NEW_DATA_PATH+'/'+TEST)\n",
        "print('DONE!')"
      ],
      "metadata": {
        "colab": {
          "base_uri": "https://localhost:8080/"
        },
        "id": "7RMj_e2ZMsiD",
        "outputId": "aca96080-e722-4dac-b4a5-9781269112d0"
      },
      "execution_count": null,
      "outputs": [
        {
          "output_type": "stream",
          "name": "stdout",
          "text": [
            "copying training and validation images...\n",
            "DONE!\n"
          ]
        }
      ]
    },
    {
      "cell_type": "code",
      "source": [
        "from __future__ import print_function, division\n",
        "\n",
        "import torch\n",
        "import torch.nn as nn\n",
        "import torch.optim as optim\n",
        "from torch.optim import lr_scheduler\n",
        "import numpy as np\n",
        "import torchvision\n",
        "from torchvision import datasets, models, transforms\n",
        "\n",
        "%matplotlib inline\n",
        "import matplotlib.pyplot as plt\n",
        "import time\n",
        "import os\n",
        "import copy\n",
        "\n",
        "plt.ion()   # interactive mode"
      ],
      "metadata": {
        "id": "NIm2K84ikOus"
      },
      "execution_count": 6,
      "outputs": []
    },
    {
      "cell_type": "code",
      "source": [
        "# data augmentation and normalization for training\n",
        "# just normalization for test\n",
        "data_transforms = {\n",
        "       'train': transforms.Compose([\n",
        "        transforms.RandomResizedCrop(224),\n",
        "        transforms.RandomHorizontalFlip(),\n",
        "        transforms.ToTensor(),       # convert the image to a tensor with pixels in the range [0, 1]\n",
        "        transforms.Normalize([0.485, 0.456, 0.406], [0.229, 0.224, 0.225])\n",
        "    ]),\n",
        "    'test': transforms.Compose([\n",
        "        transforms.Resize(256),       # resize the short side of the image to 150 keeping aspect ratio\n",
        "        transforms.CenterCrop(224),   # crop a square in the center of the image\n",
        "        transforms.ToTensor(),        # convert the image to a tensor with pixels in the range [0, 1]\n",
        "        transforms.Normalize([0.485, 0.456, 0.406], [0.229, 0.224, 0.225])\n",
        "    ]),\n",
        "}\n",
        "\n",
        "# copy the training and testing images to their respective directories\n",
        "NEW_DATA_PATH = 'DatabaseOrdered'\n",
        "\n",
        "image_datasets = {x: datasets.ImageFolder(os.path.join(ROOT+NEW_DATA_PATH, x),\n",
        "                                          data_transforms[x])\n",
        "                  for x in ['train', 'test']}\n",
        "\n",
        "print(image_datasets)\n",
        "dataloaders = {x: torch.utils.data.DataLoader(image_datasets[x], batch_size=4,\n",
        "                                             shuffle=True, num_workers=2)\n",
        "              for x in ['train', 'test']}\n",
        "\n",
        "print(dataloaders)\n",
        "dataset_sizes = {x: len(image_datasets[x]) for x in ['train', 'test']}\n",
        "class_names = image_datasets['train'].classes\n",
        "\n",
        "print(class_names)"
      ],
      "metadata": {
        "colab": {
          "base_uri": "https://localhost:8080/"
        },
        "id": "GbTpwdb6kE6c",
        "outputId": "9cc0ed13-e317-41f6-a311-59282da5addb"
      },
      "execution_count": 7,
      "outputs": [
        {
          "output_type": "stream",
          "name": "stdout",
          "text": [
            "{'train': Dataset ImageFolder\n",
            "    Number of datapoints: 1420\n",
            "    Root location: /content/drive/MyDrive/ColabNotebooks/DatabaseOrdered/train\n",
            "    StandardTransform\n",
            "Transform: Compose(\n",
            "               RandomResizedCrop(size=(224, 224), scale=(0.08, 1.0), ratio=(0.75, 1.3333), interpolation=bilinear), antialias=None)\n",
            "               RandomHorizontalFlip(p=0.5)\n",
            "               ToTensor()\n",
            "               Normalize(mean=[0.485, 0.456, 0.406], std=[0.229, 0.224, 0.225])\n",
            "           ), 'test': Dataset ImageFolder\n",
            "    Number of datapoints: 540\n",
            "    Root location: /content/drive/MyDrive/ColabNotebooks/DatabaseOrdered/test\n",
            "    StandardTransform\n",
            "Transform: Compose(\n",
            "               Resize(size=256, interpolation=bilinear, max_size=None, antialias=None)\n",
            "               CenterCrop(size=(224, 224))\n",
            "               ToTensor()\n",
            "               Normalize(mean=[0.485, 0.456, 0.406], std=[0.229, 0.224, 0.225])\n",
            "           )}\n",
            "{'train': <torch.utils.data.dataloader.DataLoader object at 0x7fe2bc972730>, 'test': <torch.utils.data.dataloader.DataLoader object at 0x7fe2bc972b80>}\n",
            "['Documents', 'Plans', 'Tickets']\n"
          ]
        }
      ]
    },
    {
      "cell_type": "code",
      "source": [
        "device = torch.device(\"cuda:0\" if torch.cuda.is_available() else \"cpu\")\n",
        "print(device)"
      ],
      "metadata": {
        "colab": {
          "base_uri": "https://localhost:8080/"
        },
        "id": "Mhj19I6frMd2",
        "outputId": "a40aa71f-2ce5-4e76-921f-bf577d905629"
      },
      "execution_count": 8,
      "outputs": [
        {
          "output_type": "stream",
          "name": "stdout",
          "text": [
            "cpu\n"
          ]
        }
      ]
    },
    {
      "cell_type": "markdown",
      "source": [
        "### 3. Visualizing a few images\n",
        "\n",
        "We define the `imshow` function for unnormalizing and displaying the images.\n",
        "We visualize a few training images after applying data augmentation."
      ],
      "metadata": {
        "id": "v2OZ6hGNpPrJ"
      }
    },
    {
      "cell_type": "code",
      "source": [
        "def imshow(inp, title=None):\n",
        "    \"\"\"Imshow for Tensor.\"\"\"\n",
        "    inp = inp.numpy().transpose((1, 2, 0))\n",
        "    mean = np.array([0.485, 0.456, 0.406])\n",
        "    std = np.array([0.229, 0.224, 0.225])\n",
        "    inp = std * inp + mean\n",
        "    inp = np.clip(inp, 0, 1)\n",
        "    #plt.gcf().set_facecolor(\"#103243\")\n",
        "\n",
        "    plt.imshow(inp)\n",
        "    if title is not None:\n",
        "        #plt.title(title, color='white')\n",
        "        plt.title(title)\n",
        "    plt.pause(0.001)  # pause a bit so that plots are updated\n",
        "\n",
        "\n",
        "# get a batch of training data\n",
        "inputs, classes = next(iter(dataloaders['train']))\n",
        "\n",
        "# make a grid from batch\n",
        "out = torchvision.utils.make_grid(inputs)\n",
        "\n",
        "imshow(out, title=[class_names[x] for x in classes])"
      ],
      "metadata": {
        "colab": {
          "base_uri": "https://localhost:8080/",
          "height": 148
        },
        "id": "mML1GajlkE-s",
        "outputId": "534b1e68-cf72-413a-9ebe-908abc4170c8"
      },
      "execution_count": 42,
      "outputs": [
        {
          "output_type": "display_data",
          "data": {
            "text/plain": [
              "<Figure size 432x288 with 1 Axes>"
            ],
            "image/png": "[encoded data removed]"
          },
          "metadata": {
            "needs_background": "light"
          }
        }
      ]
    },
    {
      "cell_type": "markdown",
      "source": [
        "### 4. Training a CNN as fixed feature extractor with Transfer Learning\n",
        "\n",
        "We define `train_model`, a general function to train a model.\n",
        "\n",
        "The parameters are the model, the criterion (loss function), the optimizer, the learning rate scheduler (how to modify the learning rate as the learning progresses) and the number of epochs.\n",
        "\n",
        "In particular, we will see how to schedule the learning rate, and how to save the best model, that is the model that achieves the best performance on the test set.\n"
      ],
      "metadata": {
        "id": "KL_Coz3KWJrb"
      }
    },
    {
      "cell_type": "code",
      "source": [
        "def train_model(model, criterion, optimizer, scheduler, num_epochs=25):\n",
        "    since = time.time()\n",
        "\n",
        "    best_model_wts = copy.deepcopy(model.state_dict())\n",
        "    best_acc = 0.0\n",
        "\n",
        "    for epoch in range(num_epochs):\n",
        "        print('Epoch {}/{}'.format(epoch, num_epochs - 1))\n",
        "        print('-' * 10)\n",
        "\n",
        "        # each epoch has a training and test phase\n",
        "        for phase in ['train', 'test']:\n",
        "            if phase == 'train':\n",
        "                scheduler.step()\n",
        "                model.train()  # set model to training mode\n",
        "            else:\n",
        "                model.eval()   # set model to evaluate mode\n",
        "\n",
        "            running_loss = 0.0\n",
        "            running_corrects = 0\n",
        "\n",
        "            # iterate over data.\n",
        "            for inputs, labels in dataloaders[phase]:\n",
        "                inputs = inputs.to(device)\n",
        "                labels = labels.to(device)\n",
        "\n",
        "                # zero the parameter gradients\n",
        "                optimizer.zero_grad()\n",
        "\n",
        "                # forward\n",
        "                # track history if only in train\n",
        "                with torch.set_grad_enabled(phase == 'train'):\n",
        "                    outputs = model(inputs)\n",
        "                    _, preds = torch.max(outputs, 1)\n",
        "                    loss = criterion(outputs, labels)\n",
        "\n",
        "                    # backward + optimize only if in training phase\n",
        "                    if phase == 'train':\n",
        "                        loss.backward()\n",
        "                        optimizer.step()\n",
        "\n",
        "                # statistics\n",
        "                running_loss += loss.item() * inputs.size(0)\n",
        "                running_corrects += torch.sum(preds == labels.data)\n",
        "\n",
        "            epoch_loss = running_loss / dataset_sizes[phase]\n",
        "            epoch_acc = running_corrects.double() / dataset_sizes[phase]\n",
        "\n",
        "            print('{} Loss: {:.4f} Acc: {:.4f}'.format(\n",
        "                phase, epoch_loss, epoch_acc))\n",
        "\n",
        "            # deep copy the model\n",
        "            if phase == 'test' and epoch_acc > best_acc:\n",
        "                best_acc = epoch_acc\n",
        "                best_model_wts = copy.deepcopy(model.state_dict())\n",
        "\n",
        "        print()\n",
        "\n",
        "    time_elapsed = time.time() - since\n",
        "    print('Training complete in {:.0f}m {:.0f}s'.format(\n",
        "        time_elapsed // 60, time_elapsed % 60))\n",
        "    print('Best test Acc: {:4f}'.format(best_acc))\n",
        "\n",
        "    # load best model weights\n",
        "    model.load_state_dict(best_model_wts)\n",
        "    return model"
      ],
      "metadata": {
        "id": "XTwbmJZxkFCr"
      },
      "execution_count": null,
      "outputs": []
    },
    {
      "cell_type": "markdown",
      "source": [
        "We freeze all the network except the final layer. We will only train the parameters of the last layer (the classification layer). For that we need to set ``requires_grad == False`` \n",
        "to freeze the parameters so that the gradients are not computed in the backward pass ``backward()``.\n",
        "\n",
        "We will use as model a resnet18 architecture pretrained on the ImageNet dataset (it contains 1000 classes). Therefore, we will\n",
        "need to change the number of output units from 1000 to 3, since we will work with only three classes (documents, plans and tickets). \n",
        "\n",
        "Parameters: \n",
        "- cross entropy loss\n",
        "- optimizer is stochastic gradient descent (SGD) with momentum (0.9)\n",
        "- the initial learning rate is 0.001\n",
        "- the scheduler is StepLR with step_size=7 and gamma=0.1, which means that we reduce the learning rate by a factor of 0.1 every 7 iterations."
      ],
      "metadata": {
        "id": "Po1SCe1gW51j"
      }
    },
    {
      "cell_type": "code",
      "source": [
        "model_conv = torchvision.models.resnet18(pretrained=True)\n",
        "\n",
        "for param in model_conv.parameters():\n",
        "    param.requires_grad = False\n",
        "\n",
        "# parameters of newly constructed modules have requires_grad=True by default\n",
        "num_ftrs = model_conv.fc.in_features\n",
        "model_conv.fc = nn.Linear(num_ftrs, 3) # 3 classes to predict\n",
        "\n",
        "model_conv = model_conv.to(device)\n",
        "\n",
        "criterion = nn.CrossEntropyLoss()\n",
        "\n",
        "# observe that only parameters of final layer are being optimized as\n",
        "# opoosed to before.\n",
        "optimizer_conv = optim.SGD(model_conv.fc.parameters(), lr=0.001, momentum=0.9)\n",
        "\n",
        "# decay LR by a factor of 0.1 every 7 epochs\n",
        "exp_lr_scheduler = lr_scheduler.StepLR(optimizer_conv, step_size=7, gamma=0.1)"
      ],
      "metadata": {
        "colab": {
          "base_uri": "https://localhost:8080/",
          "height": 156,
          "referenced_widgets": [
            "46c0492437084921b0860ec063c85eb4",
            "a11a5524eb7e462fb19136eaf5b59e1a",
            "89bdc2364817406f9aa5e833e7ccd58b",
            "ea39b70fcc2f47d9a9dfd9e48f5cb7a0",
            "836fab5c9ae7429e9cbaffd6001a3bb1",
            "23754b64073948d39eb200717ddffcbc",
            "8f3250be56fe45e5b3bf3a861bc0834f",
            "cc040818ce3e44629daf1f8ca85e6d33",
            "17f521474e4c448ba0a0a06712689be9",
            "47e56364c8704a22bc09cad631dcb81e",
            "530214f21df7442b98a93db4cb4eb217"
          ]
        },
        "id": "7FPNsbUzpuoU",
        "outputId": "1647f164-8c2a-403c-b7e4-dca046d5eacb"
      },
      "execution_count": null,
      "outputs": [
        {
          "output_type": "stream",
          "name": "stderr",
          "text": [
            "/usr/local/lib/python3.8/dist-packages/torchvision/models/_utils.py:208: UserWarning: The parameter 'pretrained' is deprecated since 0.13 and may be removed in the future, please use 'weights' instead.\n",
            "  warnings.warn(\n",
            "/usr/local/lib/python3.8/dist-packages/torchvision/models/_utils.py:223: UserWarning: Arguments other than a weight enum or `None` for 'weights' are deprecated since 0.13 and may be removed in the future. The current behavior is equivalent to passing `weights=ResNet18_Weights.IMAGENET1K_V1`. You can also use `weights=ResNet18_Weights.DEFAULT` to get the most up-to-date weights.\n",
            "  warnings.warn(msg)\n",
            "Downloading: \"https://download.pytorch.org/models/resnet18-f37072fd.pth\" to /root/.cache/torch/hub/checkpoints/resnet18-f37072fd.pth\n"
          ]
        },
        {
          "output_type": "display_data",
          "data": {
            "text/plain": [
              "  0%|          | 0.00/44.7M [00:00<?, ?B/s]"
            ],
            "application/vnd.jupyter.widget-view+json": {
              "version_major": 2,
              "version_minor": 0,
              "model_id": "46c0492437084921b0860ec063c85eb4"
            }
          },
          "metadata": {}
        }
      ]
    },
    {
      "cell_type": "markdown",
      "source": [
        "We train the model for 25 epochs. The training will be fast as gradients don't need to be computed for most of the network."
      ],
      "metadata": {
        "id": "wdBnA-jGXon5"
      }
    },
    {
      "cell_type": "code",
      "source": [
        "model_conv = train_model(model_conv, criterion, optimizer_conv,\n",
        "                         exp_lr_scheduler, num_epochs=15)"
      ],
      "metadata": {
        "colab": {
          "base_uri": "https://localhost:8080/"
        },
        "id": "Iet7ucDipusp",
        "outputId": "788f44f2-cf2c-4c03-d521-57c1179c0c33"
      },
      "execution_count": null,
      "outputs": [
        {
          "output_type": "stream",
          "name": "stdout",
          "text": [
            "Epoch 0/14\n",
            "----------\n"
          ]
        },
        {
          "output_type": "stream",
          "name": "stderr",
          "text": [
            "/usr/local/lib/python3.8/dist-packages/torch/optim/lr_scheduler.py:138: UserWarning: Detected call of `lr_scheduler.step()` before `optimizer.step()`. In PyTorch 1.1.0 and later, you should call them in the opposite order: `optimizer.step()` before `lr_scheduler.step()`.  Failure to do this will result in PyTorch skipping the first value of the learning rate schedule. See more details at https://pytorch.org/docs/stable/optim.html#how-to-adjust-learning-rate\n",
            "  warnings.warn(\"Detected call of `lr_scheduler.step()` before `optimizer.step()`. \"\n"
          ]
        },
        {
          "output_type": "stream",
          "name": "stdout",
          "text": [
            "train Loss: 0.4823 Acc: 0.7930\n",
            "test Loss: 0.0517 Acc: 0.9963\n",
            "\n",
            "Epoch 1/14\n",
            "----------\n",
            "train Loss: 0.3778 Acc: 0.8549\n",
            "test Loss: 0.0376 Acc: 0.9944\n",
            "\n",
            "Epoch 2/14\n",
            "----------\n",
            "train Loss: 0.3969 Acc: 0.8577\n",
            "test Loss: 0.0625 Acc: 0.9833\n",
            "\n",
            "Epoch 3/14\n",
            "----------\n",
            "train Loss: 0.3353 Acc: 0.8711\n",
            "test Loss: 0.0390 Acc: 0.9926\n",
            "\n",
            "Epoch 4/14\n",
            "----------\n",
            "train Loss: 0.3457 Acc: 0.8725\n",
            "test Loss: 0.0474 Acc: 0.9833\n",
            "\n",
            "Epoch 5/14\n",
            "----------\n",
            "train Loss: 0.4265 Acc: 0.8521\n",
            "test Loss: 0.0331 Acc: 0.9944\n",
            "\n",
            "Epoch 6/14\n",
            "----------\n",
            "train Loss: 0.2706 Acc: 0.9042\n",
            "test Loss: 0.0365 Acc: 0.9907\n",
            "\n",
            "Epoch 7/14\n",
            "----------\n",
            "train Loss: 0.2758 Acc: 0.8951\n",
            "test Loss: 0.0271 Acc: 0.9944\n",
            "\n",
            "Epoch 8/14\n",
            "----------\n",
            "train Loss: 0.2904 Acc: 0.8930\n",
            "test Loss: 0.0286 Acc: 0.9944\n",
            "\n",
            "Epoch 9/14\n",
            "----------\n",
            "train Loss: 0.2814 Acc: 0.8923\n",
            "test Loss: 0.0313 Acc: 0.9926\n",
            "\n",
            "Epoch 10/14\n",
            "----------\n",
            "train Loss: 0.2769 Acc: 0.8986\n",
            "test Loss: 0.0825 Acc: 0.9722\n",
            "\n",
            "Epoch 11/14\n",
            "----------\n",
            "train Loss: 0.2800 Acc: 0.8979\n",
            "test Loss: 0.0433 Acc: 0.9889\n",
            "\n",
            "Epoch 12/14\n",
            "----------\n",
            "train Loss: 0.2285 Acc: 0.9099\n",
            "test Loss: 0.0317 Acc: 0.9944\n",
            "\n",
            "Epoch 13/14\n",
            "----------\n",
            "train Loss: 0.2322 Acc: 0.9077\n",
            "test Loss: 0.0587 Acc: 0.9870\n",
            "\n",
            "Epoch 14/14\n",
            "----------\n",
            "train Loss: 0.2748 Acc: 0.8958\n",
            "test Loss: 0.0365 Acc: 0.9944\n",
            "\n",
            "Training complete in 105m 31s\n",
            "Best test Acc: 0.996296\n"
          ]
        }
      ]
    },
    {
      "cell_type": "markdown",
      "source": [
        "### 5. Visualizing the model predictions\n",
        "\n",
        "The following is a generic function to display the predictions for a few images\n",
        "\n",
        "\n"
      ],
      "metadata": {
        "id": "C-kF9gTmplWs"
      }
    },
    {
      "cell_type": "code",
      "source": [
        "def visualize_model(model, num_images=4):\n",
        "    was_training = model.training\n",
        "    model.eval()\n",
        "    images_so_far = 0\n",
        "    fig = plt.figure()\n",
        "\n",
        "    with torch.no_grad():\n",
        "        for i, (inputs, labels) in enumerate(dataloaders['test']):\n",
        "            inputs = inputs.to(device)\n",
        "            labels = labels.to(device)\n",
        "\n",
        "            outputs = model(inputs)\n",
        "            _, preds = torch.max(outputs, 1)\n",
        "\n",
        "            for j in range(inputs.size()[0]):\n",
        "                images_so_far += 1\n",
        "                ax = plt.subplot(num_images//2, 2, images_so_far)\n",
        "                ax.axis('off')\n",
        "                ax.set_title('predicted: {}'.format(class_names[preds[j]]))\n",
        "                imshow(inputs.cpu().data[j])\n",
        "\n",
        "                if images_so_far == num_images:\n",
        "                    model.train(mode=was_training)\n",
        "                    return\n",
        "        model.train(mode=was_training)"
      ],
      "metadata": {
        "id": "Jk71mm4QkFGE"
      },
      "execution_count": null,
      "outputs": []
    },
    {
      "cell_type": "markdown",
      "source": [
        "We visualize some of the predictions."
      ],
      "metadata": {
        "id": "lgOjPKVaX2ZO"
      }
    },
    {
      "cell_type": "code",
      "source": [
        "visualize_model(model_conv)\n",
        "\n",
        "plt.ioff()\n",
        "plt.show()"
      ],
      "metadata": {
        "id": "F-70StJzpu2V",
        "colab": {
          "base_uri": "https://localhost:8080/",
          "height": 533
        },
        "outputId": "d1fb1dd2-1d67-4e36-e856-a69a78bdd72d"
      },
      "execution_count": null,
      "outputs": [
        {
          "output_type": "display_data",
          "data": {
            "text/plain": [
              "<Figure size 432x288 with 1 Axes>"
            ],
            "image/png": "[encoded data removed]"
          },
          "metadata": {
            "needs_background": "light"
          }
        },
        {
          "output_type": "display_data",
          "data": {
            "text/plain": [
              "<Figure size 432x288 with 1 Axes>"
            ],
            "image/png": "[encoded data removed]"
          },
          "metadata": {
            "needs_background": "light"
          }
        },
        {
          "output_type": "display_data",
          "data": {
            "text/plain": [
              "<Figure size 432x288 with 1 Axes>"
            ],
            "image/png": "[encoded data removed]"
          },
          "metadata": {
            "needs_background": "light"
          }
        },
        {
          "output_type": "display_data",
          "data": {
            "text/plain": [
              "<Figure size 432x288 with 1 Axes>"
            ],
            "image/png": "[encoded data removed]"
          },
          "metadata": {
            "needs_background": "light"
          }
        }
      ]
    },
    {
      "cell_type": "markdown",
      "source": [
        "### 6. Evaluating the model predictions"
      ],
      "metadata": {
        "id": "Mtft0H1uYDRC"
      }
    },
    {
      "cell_type": "markdown",
      "source": [
        "Now we compute and print the classification report, which provides the main classification metrics:\n",
        "precision, recall and f1-score per class, the number of samples per class and \n",
        "\n",
        "*   precision\n",
        "*   recall and f1-score per class\n",
        "*   the number of samples per class\n",
        "*   the global accuracy\n",
        "\n",
        "We also compute and display the confussion matrix for the training and for the testing set. We normalize the values of the confusion matrix by raws (true class).\n",
        "\n"
      ],
      "metadata": {
        "id": "ACrYPcmGMgX0"
      }
    },
    {
      "cell_type": "code",
      "source": [
        "from sklearn.metrics import confusion_matrix, ConfusionMatrixDisplay, classification_report\n",
        "\n",
        "y_pred = []\n",
        "y_true = []\n",
        "with torch.no_grad():\n",
        "    for inputs, labels in dataloaders['train']:\n",
        "       \n",
        "        inputs, labels = inputs.to(device), labels.to(device)\n",
        "\n",
        "        output = model_conv(inputs)\n",
        "        output = (torch.max(output, 1)[1]).data.cpu().numpy()\n",
        "        y_pred.extend(output) #save prediction\n",
        "\n",
        "        labels =labels.data.cpu().numpy()\n",
        "        y_true.extend(labels)   #save truth\n",
        "\n",
        "print(\"Train set classification report\\n\")\n",
        "print(classification_report(y_true, y_pred))\n",
        "\n",
        "cm = confusion_matrix(y_true,y_pred,normalize='true')\n",
        "display = ConfusionMatrixDisplay(cm, display_labels=class_names)\n",
        "\n",
        "fig, ax = plt.subplots(figsize=(3,3))\n",
        "display.plot(ax=ax, values_format='.2f')\n",
        "fig.suptitle('Normalized Confusion matrix train set')\n",
        "plt.show()\n",
        "\n",
        "y_pred = []\n",
        "y_true = []\n",
        "with torch.no_grad():\n",
        "    for inputs, labels in dataloaders['test']:\n",
        "       \n",
        "        inputs, labels = inputs.to(device), labels.to(device)\n",
        "\n",
        "        output = model_conv(inputs)\n",
        "        output = (torch.max(output, 1)[1]).data.cpu().numpy()\n",
        "        y_pred.extend(output) #save prediction\n",
        "\n",
        "        labels =labels.data.cpu().numpy()\n",
        "        y_true.extend(labels)   #save truth\n",
        "\n",
        "print(\"Test set classification report\\n\")\n",
        "print(classification_report(y_true, y_pred))\n",
        "\n",
        "cm = confusion_matrix(y_true,y_pred, normalize='true')\n",
        "display = ConfusionMatrixDisplay(cm, display_labels=class_names)\n",
        "\n",
        "fig, ax = plt.subplots(figsize=(3,3))\n",
        "display.plot(ax=ax, values_format='.2f')\n",
        "fig.suptitle('Normalized Confusion matrix test set')\n",
        "plt.show()"
      ],
      "metadata": {
        "id": "kbOUFHPbkFJd",
        "colab": {
          "base_uri": "https://localhost:8080/",
          "height": 864
        },
        "outputId": "098496c4-9683-4468-ae7a-a52f6549afa0"
      },
      "execution_count": null,
      "outputs": [
        {
          "output_type": "stream",
          "name": "stdout",
          "text": [
            "Train set classification report\n",
            "\n",
            "              precision    recall  f1-score   support\n",
            "\n",
            "           0       0.97      0.96      0.97       344\n",
            "           1       0.98      0.97      0.98       606\n",
            "           2       0.97      0.99      0.98       470\n",
            "\n",
            "    accuracy                           0.97      1420\n",
            "   macro avg       0.97      0.97      0.97      1420\n",
            "weighted avg       0.97      0.97      0.97      1420\n",
            "\n"
          ]
        },
        {
          "output_type": "display_data",
          "data": {
            "text/plain": [
              "<Figure size 216x216 with 2 Axes>"
            ],
            "image/png": "[encoded data removed]"
          },
          "metadata": {
            "needs_background": "light"
          }
        },
        {
          "output_type": "stream",
          "name": "stdout",
          "text": [
            "Validation set classification report\n",
            "\n",
            "              precision    recall  f1-score   support\n",
            "\n",
            "           0       1.00      1.00      1.00       181\n",
            "           1       1.00      0.99      1.00       203\n",
            "           2       0.99      1.00      0.99       156\n",
            "\n",
            "    accuracy                           1.00       540\n",
            "   macro avg       1.00      1.00      1.00       540\n",
            "weighted avg       1.00      1.00      1.00       540\n",
            "\n"
          ]
        },
        {
          "output_type": "display_data",
          "data": {
            "text/plain": [
              "<Figure size 216x216 with 2 Axes>"
            ],
            "image/png": "[encoded data removed]"
          },
          "metadata": {
            "needs_background": "light"
          }
        }
      ]
    },
    {
      "cell_type": "markdown",
      "source": [
        "### 7. Saving the model"
      ],
      "metadata": {
        "id": "v8ZTF-IKYcY8"
      }
    },
    {
      "cell_type": "markdown",
      "source": [
        "After finalizing, we save the model to file. Once saved, we can load the model at any time and use it to make predictions. \n",
        "\n",
        "we must call model. eval() to set dropout and batch normalization layers to evaluation mode before running inference. Failing to do this will yield inconsistent inference results."
      ],
      "metadata": {
        "id": "cLXMkPU1Ref-"
      }
    },
    {
      "cell_type": "code",
      "source": [
        "print(ROOT)"
      ],
      "metadata": {
        "id": "roMnrs34R0OD",
        "colab": {
          "base_uri": "https://localhost:8080/"
        },
        "outputId": "4764ec57-0113-42b8-fa3e-51ccdbd424fd"
      },
      "execution_count": null,
      "outputs": [
        {
          "output_type": "stream",
          "name": "stdout",
          "text": [
            "/content/drive/MyDrive/ColabNotebooks/\n"
          ]
        }
      ]
    },
    {
      "cell_type": "code",
      "source": [
        "# Specify a path\n",
        "MODEL_PATH = ROOT+\"classification_model_HP.pt\"\n",
        "# Save\n",
        "torch.save(model_conv, MODEL_PATH)"
      ],
      "metadata": {
        "id": "8m8vOCdWaYRM"
      },
      "execution_count": null,
      "outputs": []
    },
    {
      "cell_type": "code",
      "source": [
        "# Load\n",
        "model = torch.load(MODEL_PATH)\n",
        "model.eval()"
      ],
      "metadata": {
        "id": "CeLS1RtWEYRj"
      },
      "execution_count": null,
      "outputs": []
    },
    {
      "cell_type": "markdown",
      "source": [
        "### 8. Predicting single image using the model"
      ],
      "metadata": {
        "id": "KWAIyZonR9GN"
      }
    },
    {
      "cell_type": "markdown",
      "source": [
        "This will involve two parts, one where we prepare the image so that it can be fed to ResNet, and next, we will write the code to get the actual prediction from the model."
      ],
      "metadata": {
        "id": "v1dql5qGSCdL"
      }
    },
    {
      "cell_type": "markdown",
      "source": [
        "#### 8.1. Preparing the image"
      ],
      "metadata": {
        "id": "S1zrd94uS4Be"
      }
    },
    {
      "cell_type": "markdown",
      "source": [
        "ResNet model requires the image to be of 3 channel RGB of size 224 x 224. We will also normalize the image tensor with the required mean and standard deviation values.\n",
        "\n",
        "We will use transforms from torchvision library and build a transform pipeline, which transforms our images as required.\n",
        "\n",
        "Takes image data in bytes, applies the series of transforms, and returns a tensor. "
      ],
      "metadata": {
        "id": "NqpKi2pHS5V_"
      }
    },
    {
      "cell_type": "code",
      "source": [
        "data_transforms['test']"
      ],
      "metadata": {
        "id": "jSJxsMoyTeuB",
        "colab": {
          "base_uri": "https://localhost:8080/"
        },
        "outputId": "439fe16e-096a-4196-b6b4-15b1967d48cd"
      },
      "execution_count": 12,
      "outputs": [
        {
          "output_type": "execute_result",
          "data": {
            "text/plain": [
              "Compose(\n",
              "    Resize(size=256, interpolation=bilinear, max_size=None, antialias=None)\n",
              "    CenterCrop(size=(224, 224))\n",
              "    ToTensor()\n",
              "    Normalize(mean=[0.485, 0.456, 0.406], std=[0.229, 0.224, 0.225])\n",
              ")"
            ]
          },
          "metadata": {},
          "execution_count": 12
        }
      ]
    },
    {
      "cell_type": "code",
      "source": [
        "from PIL import Image\n",
        "\n",
        "def image_loader(imagen_name):\n",
        "  image = plt.imread(imagen_name)\n",
        "  imgFile = Image.open(imagen_name)\n",
        "\n",
        "  if imgFile.mode == 'L':\n",
        "    plt.imshow(image, cmap='gray')\n",
        "    imgFile = imgFile.convert('RGB')\n",
        "  else:\n",
        "    plt.imshow(image)\n",
        "  \n",
        "  return data_transforms['test'](imgFile).unsqueeze(0)"
      ],
      "metadata": {
        "id": "oAac4AQDaYWp"
      },
      "execution_count": 37,
      "outputs": []
    },
    {
      "cell_type": "markdown",
      "source": [
        "#### 8.2. Classifying the image"
      ],
      "metadata": {
        "id": "H60G9Q0pTtvs"
      }
    },
    {
      "cell_type": "markdown",
      "source": [
        "Now we use the trained model to predict the image class, so we load the model and get an inference."
      ],
      "metadata": {
        "id": "J9Bn0YduTvDN"
      }
    },
    {
      "cell_type": "code",
      "source": [
        "doc_type = {'Documents': 'document', 'Plans': 'plan', 'Tickets': 'ticket'}"
      ],
      "metadata": {
        "id": "PCB2geEIaOfZ"
      },
      "execution_count": 11,
      "outputs": []
    },
    {
      "cell_type": "code",
      "source": [
        "model_conv = torch.load(MODEL_PATH)\n",
        "model_conv.eval()\n",
        " \n",
        "def get_prediction(image):\n",
        "    tensor = image_loader(image)\n",
        "    tensor = tensor.to(device)\n",
        "    output = model_conv.forward(tensor)\n",
        "     \n",
        "    probs = torch.nn.functional.softmax(output, dim=1)\n",
        "    conf, classes_output = torch.max(probs, 1)\n",
        "    return conf.item(), doc_type[class_names[classes_output.item()]]\n",
        "\n",
        " \n",
        "#image_path=\"/content/drive/MyDrive/ColabNotebooks/DatabaseOrdered/test/Plans/Drawing-1167109_reconstructed.png\"\n",
        "#image_path=\"/content/drive/MyDrive/ColabNotebooks/DatabaseOrdered/test/Documents/e01-035.png\"\n",
        "image_path=\"/content/drive/MyDrive/ColabNotebooks/DatabaseOrdered/test/Tickets/498.jpg\"\n",
        "\n",
        "conf,y_pre=get_prediction(image_path)\n",
        "print(y_pre, 'at confidence score:{0:.2f}'.format(conf))\n",
        "\n",
        "#with open(ROOT+'outputClassifier.txt', 'a') as f:\n",
        "#  content = 'Image {}, is a {} at confidence score: {:.2f}\\n'.format(image_path, y_pre, conf)\n",
        "#  f.write(content)"
      ],
      "metadata": {
        "id": "yAEjmat1aYbi",
        "colab": {
          "base_uri": "https://localhost:8080/",
          "height": 286
        },
        "outputId": "3d7d7461-83ad-491c-d3a6-4a95ef1f891b"
      },
      "execution_count": 38,
      "outputs": [
        {
          "output_type": "stream",
          "name": "stdout",
          "text": [
            "ticket at confidence score:0.99\n"
          ]
        },
        {
          "output_type": "display_data",
          "data": {
            "text/plain": [
              "<Figure size 432x288 with 1 Axes>"
            ],
            "image/png": "[encoded data removed]"
          },
          "metadata": {
            "needs_background": "light"
          }
        }
      ]
    },
    {
      "cell_type": "code",
      "source": [
        "model_conv2 = torch.load(MODEL_PATH)\n",
        "model_conv2.eval()\n",
        "\n",
        "def get_prediction(image):\n",
        "    tensor = image_loader(image)\n",
        "    tensor = tensor.to(device)\n",
        "    output = model_conv2.forward(tensor)\n",
        "     \n",
        "    probs = torch.nn.functional.softmax(output, dim=1)\n",
        "    conf, classes_output = torch.max(probs, 1)\n",
        "    return conf.item(), doc_type[class_names[classes_output.item()]]\n",
        "\n",
        " \n",
        "image_path=\"/content/drive/MyDrive/ColabNotebooks/DatabaseOrdered/test/Plans/Drawing-1167109_reconstructed.png\"\n",
        "#image_path=\"/content/drive/MyDrive/ColabNotebooks/DatabaseOrdered/test/Documents/e01-035.png\"\n",
        "#image_path=\"/content/drive/MyDrive/ColabNotebooks/DatabaseOrdered/test/Tickets/498.jpg\"\n",
        "\n",
        "conf,y_pre=get_prediction(image_path)\n",
        "print(y_pre, 'at confidence score:{0:.2f}'.format(conf))\n",
        "\n",
        "with open(ROOT+'outputClassifier.txt', 'a') as f:\n",
        "  content = 'Image {}, is a {} at confidence score: {:.2f}'.format(image_path, y_pre, conf)\n",
        "  f.write(content)"
      ],
      "metadata": {
        "colab": {
          "base_uri": "https://localhost:8080/",
          "height": 286
        },
        "id": "JYhUFBwLZa3z",
        "outputId": "f28fd6bf-ef7b-405f-ba5e-758ade81cd10"
      },
      "execution_count": 39,
      "outputs": [
        {
          "output_type": "stream",
          "name": "stdout",
          "text": [
            "plan at confidence score:0.98\n"
          ]
        },
        {
          "output_type": "display_data",
          "data": {
            "text/plain": [
              "<Figure size 432x288 with 1 Axes>"
            ],
            "image/png": "[encoded data removed]"
          },
          "metadata": {
            "needs_background": "light"
          }
        }
      ]
    },
    {
      "cell_type": "code",
      "source": [
        "def get_prediction(image):\n",
        "    tensor = image_loader(image)\n",
        "    tensor = tensor.to(device)\n",
        "    output = model_conv.forward(tensor)\n",
        "     \n",
        "    probs = torch.nn.functional.softmax(output, dim=1)\n",
        "    conf, classes_output = torch.max(probs, 1)\n",
        "    return conf.item(), doc_type[class_names[classes_output.item()]]\n",
        "\n",
        " \n",
        "#image_path=\"/content/drive/MyDrive/ColabNotebooks/DatabaseOrdered/test/Plans/Drawing-1167109_reconstructed.png\"\n",
        "image_path=\"/content/drive/MyDrive/ColabNotebooks/DatabaseOrdered/test/Documents/e01-035.png\"\n",
        "#image_path=\"/content/drive/MyDrive/ColabNotebooks/DatabaseOrdered/test/Tickets/498.jpg\"\n",
        "\n",
        "conf,y_pre=get_prediction(image_path)\n",
        "print(y_pre, 'at confidence score:{0:.2f}'.format(conf))\n",
        "\n",
        "with open(ROOT+'outputClassifier.txt', 'a') as f:\n",
        "  content = 'Image {}, is a {} at confidence score: {:.2f}'.format(image_path, y_pre, conf)\n",
        "  f.write(content)"
      ],
      "metadata": {
        "colab": {
          "base_uri": "https://localhost:8080/",
          "height": 286
        },
        "id": "tOdulP4YlU1g",
        "outputId": "ab2ee1b3-4bb7-4adc-8a9b-bef8df037f4b"
      },
      "execution_count": 41,
      "outputs": [
        {
          "output_type": "stream",
          "name": "stdout",
          "text": [
            "document at confidence score:0.99\n"
          ]
        },
        {
          "output_type": "display_data",
          "data": {
            "text/plain": [
              "<Figure size 432x288 with 1 Axes>"
            ],
            "image/png": "[encoded data removed]"
          },
          "metadata": {
            "needs_background": "light"
          }
        }
      ]
    }
  ]
}